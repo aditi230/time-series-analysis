{
  "nbformat": 4,
  "nbformat_minor": 0,
  "metadata": {
    "colab": {
      "provenance": [],
      "authorship_tag": "ABX9TyNY+Z9C90b4DP0X8J+ZQCkG",
      "include_colab_link": true
    },
    "kernelspec": {
      "name": "python3",
      "display_name": "Python 3"
    },
    "language_info": {
      "name": "python"
    }
  },
  "cells": [
    {
      "cell_type": "markdown",
      "metadata": {
        "id": "view-in-github",
        "colab_type": "text"
      },
      "source": [
        "<a href=\"https://colab.research.google.com/github/aditi230/time-series-analysis/blob/main/Time.ipynb\" target=\"_parent\"><img src=\"https://colab.research.google.com/assets/colab-badge.svg\" alt=\"Open In Colab\"/></a>"
      ]
    },
    {
      "cell_type": "code",
      "execution_count": 4,
      "metadata": {
        "id": "WSpOmjo2c4gw"
      },
      "outputs": [],
      "source": [
        "import pandas as pd\n",
        "import numpy as np"
      ]
    },
    {
      "cell_type": "code",
      "source": [
        "# TIMES\n",
        "rng = pd.date_range('2023/07/01', periods = 10, freq = '5H')\n",
        "rng"
      ],
      "metadata": {
        "colab": {
          "base_uri": "https://localhost:8080/"
        },
        "id": "vxgHlPuqdIdn",
        "outputId": "fd8b6e5f-435d-411c-ae4d-863c0709cd25"
      },
      "execution_count": 15,
      "outputs": [
        {
          "output_type": "execute_result",
          "data": {
            "text/plain": [
              "DatetimeIndex(['2023-07-01 00:00:00', '2023-07-01 05:00:00',\n",
              "               '2023-07-01 10:00:00', '2023-07-01 15:00:00',\n",
              "               '2023-07-01 20:00:00', '2023-07-02 01:00:00',\n",
              "               '2023-07-02 06:00:00', '2023-07-02 11:00:00',\n",
              "               '2023-07-02 16:00:00', '2023-07-02 21:00:00'],\n",
              "              dtype='datetime64[ns]', freq='5H')"
            ]
          },
          "metadata": {},
          "execution_count": 15
        }
      ]
    },
    {
      "cell_type": "code",
      "source": [
        "# Which of these formats DON'T work?\n",
        "#'2016 Jul 1', '7/1/2016', '1/7/2016', 'July 1, 2016', '2016-07-01', '2016/07/01'"
      ],
      "metadata": {
        "id": "H2rDtKtQdLlV"
      },
      "execution_count": 13,
      "outputs": []
    },
    {
      "cell_type": "code",
      "source": [
        "# Is '7/1/2016 in January or July? -> july"
      ],
      "metadata": {
        "id": "JdMoTsGHdPcU"
      },
      "execution_count": 16,
      "outputs": []
    },
    {
      "cell_type": "code",
      "source": [
        "# What is the class of an individual object held in the date_range? -> datetimeindex"
      ],
      "metadata": {
        "id": "7uBuClBGdR6-"
      },
      "execution_count": 17,
      "outputs": []
    },
    {
      "cell_type": "code",
      "source": [
        "# TIME STAMPS VS TIME SPANS\n",
        "pd.Timestamp('2016-07-10')"
      ],
      "metadata": {
        "colab": {
          "base_uri": "https://localhost:8080/"
        },
        "id": "0KuJ7xr5dUKu",
        "outputId": "284a8fd7-cec2-421d-a7c8-e5fd1104ae3f"
      },
      "execution_count": 18,
      "outputs": [
        {
          "output_type": "execute_result",
          "data": {
            "text/plain": [
              "Timestamp('2016-07-10 00:00:00')"
            ]
          },
          "metadata": {},
          "execution_count": 18
        }
      ]
    },
    {
      "cell_type": "code",
      "source": [
        "# You can also more details\n",
        "pd.Timestamp('2016-07-10 10')\n"
      ],
      "metadata": {
        "colab": {
          "base_uri": "https://localhost:8080/"
        },
        "id": "QLgAyTzTdUr8",
        "outputId": "012e91a3-2199-4027-8c8b-295650dae0df"
      },
      "execution_count": 19,
      "outputs": [
        {
          "output_type": "execute_result",
          "data": {
            "text/plain": [
              "Timestamp('2016-07-10 10:00:00')"
            ]
          },
          "metadata": {},
          "execution_count": 19
        }
      ]
    },
    {
      "cell_type": "code",
      "source": [
        "\n",
        "# Or even more...\n",
        "pd.Timestamp('2016-07-10 10:15')"
      ],
      "metadata": {
        "colab": {
          "base_uri": "https://localhost:8080/"
        },
        "id": "xwoySGzhdYcr",
        "outputId": "784f9bab-b448-485b-974f-e0dd080b5cf0"
      },
      "execution_count": 20,
      "outputs": [
        {
          "output_type": "execute_result",
          "data": {
            "text/plain": [
              "Timestamp('2016-07-10 10:15:00')"
            ]
          },
          "metadata": {},
          "execution_count": 20
        }
      ]
    },
    {
      "cell_type": "code",
      "source": [
        "# How much detail can you add?\n",
        "# nanosec"
      ],
      "metadata": {
        "id": "HqxRYqq3darO"
      },
      "execution_count": 21,
      "outputs": []
    },
    {
      "cell_type": "code",
      "source": [
        "# What are some properties of timestamps? Try them out.\n",
        "# hint: http://pandas.pydata.org/pandas-docs/stable/timeseries.html#time-date-components\n",
        "t = pd.Timestamp('2016-07-10 10:15')"
      ],
      "metadata": {
        "id": "egVMhET0dcyH"
      },
      "execution_count": 22,
      "outputs": []
    },
    {
      "cell_type": "code",
      "source": [
        "# TIME SPANS\n",
        "pd.Period('2016-01')\n"
      ],
      "metadata": {
        "colab": {
          "base_uri": "https://localhost:8080/"
        },
        "id": "K0bB_4OKdfgD",
        "outputId": "70a6fcf5-71e1-4e02-d38e-2a8956a99dae"
      },
      "execution_count": 23,
      "outputs": [
        {
          "output_type": "execute_result",
          "data": {
            "text/plain": [
              "Period('2016-01', 'M')"
            ]
          },
          "metadata": {},
          "execution_count": 23
        }
      ]
    },
    {
      "cell_type": "code",
      "source": [
        "# What's that extra info above? How does it get set?\n"
      ],
      "metadata": {
        "id": "LyJWuvQLdjGN"
      },
      "execution_count": null,
      "outputs": []
    },
    {
      "cell_type": "code",
      "source": [
        "pd.Period('2016-01-01')\n"
      ],
      "metadata": {
        "colab": {
          "base_uri": "https://localhost:8080/"
        },
        "id": "vlNFidxJdlCO",
        "outputId": "c696bb43-11a7-4da7-f241-127552d153e0"
      },
      "execution_count": 24,
      "outputs": [
        {
          "output_type": "execute_result",
          "data": {
            "text/plain": [
              "Period('2016-01-01', 'D')"
            ]
          },
          "metadata": {},
          "execution_count": 24
        }
      ]
    },
    {
      "cell_type": "code",
      "source": [
        "pd.Period('2016-01-01 10')\n"
      ],
      "metadata": {
        "colab": {
          "base_uri": "https://localhost:8080/"
        },
        "id": "VeoHXD_KdmlF",
        "outputId": "bbd584a2-0810-4cb0-edc4-71702d3eb29c"
      },
      "execution_count": 25,
      "outputs": [
        {
          "output_type": "execute_result",
          "data": {
            "text/plain": [
              "Period('2016-01-01 10:00', 'H')"
            ]
          },
          "metadata": {},
          "execution_count": 25
        }
      ]
    },
    {
      "cell_type": "code",
      "source": [
        "pd.Period('2016-01-01 10:10')\n"
      ],
      "metadata": {
        "colab": {
          "base_uri": "https://localhost:8080/"
        },
        "id": "VF6ZGUa2dn-H",
        "outputId": "8f9ee88c-07ee-40e9-800e-f8811cdd8418"
      },
      "execution_count": 26,
      "outputs": [
        {
          "output_type": "execute_result",
          "data": {
            "text/plain": [
              "Period('2016-01-01 10:10', 'T')"
            ]
          },
          "metadata": {},
          "execution_count": 26
        }
      ]
    },
    {
      "cell_type": "code",
      "source": [
        "pd.Period('2016-01-01 10:10:10')\n"
      ],
      "metadata": {
        "colab": {
          "base_uri": "https://localhost:8080/"
        },
        "id": "qEuqSplCdpu8",
        "outputId": "edf64059-a485-470e-af8a-ce783bfa9fc4"
      },
      "execution_count": 27,
      "outputs": [
        {
          "output_type": "execute_result",
          "data": {
            "text/plain": [
              "Period('2016-01-01 10:10:10', 'S')"
            ]
          },
          "metadata": {},
          "execution_count": 27
        }
      ]
    },
    {
      "cell_type": "code",
      "source": [
        "# What's the most detailed Period you can get?\n"
      ],
      "metadata": {
        "id": "qCs95dA0drSN"
      },
      "execution_count": 28,
      "outputs": []
    },
    {
      "cell_type": "code",
      "source": [
        "# How can you make multiple time periods?\n",
        "# Hint look for analogy with pd.date_range() above"
      ],
      "metadata": {
        "id": "w5FChlBYdt2p"
      },
      "execution_count": 29,
      "outputs": []
    },
    {
      "cell_type": "code",
      "source": [
        "# TIME OFFSETS\n",
        "pd.Timedelta('1 day')"
      ],
      "metadata": {
        "colab": {
          "base_uri": "https://localhost:8080/"
        },
        "id": "KdrS3JTcduVp",
        "outputId": "a64d7d6c-a51a-4bbb-ac58-37f4cfd6f891"
      },
      "execution_count": 30,
      "outputs": [
        {
          "output_type": "execute_result",
          "data": {
            "text/plain": [
              "Timedelta('1 days 00:00:00')"
            ]
          },
          "metadata": {},
          "execution_count": 30
        }
      ]
    },
    {
      "cell_type": "code",
      "source": [
        "pd.Period('2016-01-01 10:10') + pd.Timedelta('1 day')\n"
      ],
      "metadata": {
        "colab": {
          "base_uri": "https://localhost:8080/"
        },
        "id": "F3LF8cUwdyb8",
        "outputId": "577ad160-5c0b-4b21-d15c-12ebd8013d5a"
      },
      "execution_count": 31,
      "outputs": [
        {
          "output_type": "execute_result",
          "data": {
            "text/plain": [
              "Period('2016-01-02 10:10', 'T')"
            ]
          },
          "metadata": {},
          "execution_count": 31
        }
      ]
    },
    {
      "cell_type": "code",
      "source": [
        "pd.Timestamp('2016-01-01 10:10') + pd.Timedelta('1 day')\n"
      ],
      "metadata": {
        "colab": {
          "base_uri": "https://localhost:8080/"
        },
        "id": "dAGB4KN8d0LX",
        "outputId": "87b5d852-4ca1-4b9b-a86c-24261400592a"
      },
      "execution_count": 32,
      "outputs": [
        {
          "output_type": "execute_result",
          "data": {
            "text/plain": [
              "Timestamp('2016-01-02 10:10:00')"
            ]
          },
          "metadata": {},
          "execution_count": 32
        }
      ]
    },
    {
      "cell_type": "code",
      "source": [
        "\n",
        "pd.Timestamp('2016-01-01 10:10') + pd.Timedelta('15 ns')\n"
      ],
      "metadata": {
        "colab": {
          "base_uri": "https://localhost:8080/"
        },
        "id": "WvWz6Y1Ed1s_",
        "outputId": "92b16a66-e9a4-455a-b113-773b482b2255"
      },
      "execution_count": 33,
      "outputs": [
        {
          "output_type": "execute_result",
          "data": {
            "text/plain": [
              "Timestamp('2016-01-01 10:10:00.000000015')"
            ]
          },
          "metadata": {},
          "execution_count": 33
        }
      ]
    },
    {
      "cell_type": "code",
      "source": [
        "# FANCY FREQUENCY SETTING\n",
        "# Only want business days\n",
        "pd.period_range('2016-01-01 10:10', freq = 'B', periods = 10)"
      ],
      "metadata": {
        "colab": {
          "base_uri": "https://localhost:8080/"
        },
        "id": "0p6_CrTjd4Ub",
        "outputId": "b15f5166-fe74-463a-d14e-f8d5cfbb1014"
      },
      "execution_count": 34,
      "outputs": [
        {
          "output_type": "execute_result",
          "data": {
            "text/plain": [
              "PeriodIndex(['2016-01-01', '2016-01-04', '2016-01-05', '2016-01-06',\n",
              "             '2016-01-07', '2016-01-08', '2016-01-11', '2016-01-12',\n",
              "             '2016-01-13', '2016-01-14'],\n",
              "            dtype='period[B]')"
            ]
          },
          "metadata": {},
          "execution_count": 34
        }
      ]
    },
    {
      "cell_type": "code",
      "source": [
        "# It's possible to combine frequencies. What if you want to advance by 25 hours each day. What are the 2 ways to do it?\n",
        "p1 = pd.period_range('2016-01-01 10:10', freq = '25H', periods = 10)"
      ],
      "metadata": {
        "id": "G8F1aEa7d71k"
      },
      "execution_count": 35,
      "outputs": []
    },
    {
      "cell_type": "code",
      "source": [
        "p2 = pd.period_range('2016-01-01 10:10', freq = '1D1H', periods = 10)\n"
      ],
      "metadata": {
        "id": "ncFS44lHd-JY"
      },
      "execution_count": 36,
      "outputs": []
    },
    {
      "cell_type": "code",
      "source": [
        "p1"
      ],
      "metadata": {
        "colab": {
          "base_uri": "https://localhost:8080/"
        },
        "id": "Dz9YtfSTegqw",
        "outputId": "90fb4444-7c9b-4563-fa0b-efbcd7bdd301"
      },
      "execution_count": 37,
      "outputs": [
        {
          "output_type": "execute_result",
          "data": {
            "text/plain": [
              "PeriodIndex(['2016-01-01 10:00', '2016-01-02 11:00', '2016-01-03 12:00',\n",
              "             '2016-01-04 13:00', '2016-01-05 14:00', '2016-01-06 15:00',\n",
              "             '2016-01-07 16:00', '2016-01-08 17:00', '2016-01-09 18:00',\n",
              "             '2016-01-10 19:00'],\n",
              "            dtype='period[25H]')"
            ]
          },
          "metadata": {},
          "execution_count": 37
        }
      ]
    },
    {
      "cell_type": "code",
      "source": [
        "p2"
      ],
      "metadata": {
        "colab": {
          "base_uri": "https://localhost:8080/"
        },
        "id": "xYTgUFIPeh4o",
        "outputId": "4cb8fc4e-a44f-475d-f351-d58b1b961d9a"
      },
      "execution_count": 38,
      "outputs": [
        {
          "output_type": "execute_result",
          "data": {
            "text/plain": [
              "PeriodIndex(['2016-01-01 10:00', '2016-01-02 11:00', '2016-01-03 12:00',\n",
              "             '2016-01-04 13:00', '2016-01-05 14:00', '2016-01-06 15:00',\n",
              "             '2016-01-07 16:00', '2016-01-08 17:00', '2016-01-09 18:00',\n",
              "             '2016-01-10 19:00'],\n",
              "            dtype='period[25H]')"
            ]
          },
          "metadata": {},
          "execution_count": 38
        }
      ]
    },
    {
      "cell_type": "code",
      "source": [
        "# What are some other combos you can produce?\n",
        "# hint: http://pandas.pydata.org/pandas-docs/stable/timeseries.html#offset-aliases"
      ],
      "metadata": {
        "id": "i8qYmH78ejeJ"
      },
      "execution_count": 39,
      "outputs": []
    },
    {
      "cell_type": "code",
      "source": [
        "# INDEXING WITH TIME OBJECTS\n",
        "# You can use these objects for indices\n",
        "# Let's start with using a date range as above\n",
        "rng = pd.date_range('2016 Jul 1', periods = 10, freq = 'D')\n",
        "rng\n",
        "pd.Series(range(len(rng)), index = rng)"
      ],
      "metadata": {
        "colab": {
          "base_uri": "https://localhost:8080/"
        },
        "id": "Mputr5YZeoya",
        "outputId": "b47655bd-8cd1-4540-f923-1d01dc7a07ba"
      },
      "execution_count": 40,
      "outputs": [
        {
          "output_type": "execute_result",
          "data": {
            "text/plain": [
              "2016-07-01    0\n",
              "2016-07-02    1\n",
              "2016-07-03    2\n",
              "2016-07-04    3\n",
              "2016-07-05    4\n",
              "2016-07-06    5\n",
              "2016-07-07    6\n",
              "2016-07-08    7\n",
              "2016-07-09    8\n",
              "2016-07-10    9\n",
              "Freq: D, dtype: int64"
            ]
          },
          "metadata": {},
          "execution_count": 40
        }
      ]
    },
    {
      "cell_type": "code",
      "source": [
        "# You can also use time period indices, in cases where it makes more sense\n",
        "# to think about your index as a time span rather than a single point in time\n",
        "\n",
        "periods = [pd.Period('2016-01'), pd.Period('2016-02'), pd.Period('2016-03')]\n",
        "ts = pd.Series(np.random.randn(len(periods)), index = periods)\n",
        "ts"
      ],
      "metadata": {
        "colab": {
          "base_uri": "https://localhost:8080/"
        },
        "id": "v2cMWNBPeqw-",
        "outputId": "586aafff-8dcd-46eb-c11a-ef1808ae9c03"
      },
      "execution_count": 41,
      "outputs": [
        {
          "output_type": "execute_result",
          "data": {
            "text/plain": [
              "2016-01    0.119263\n",
              "2016-02    0.941294\n",
              "2016-03    0.680775\n",
              "Freq: M, dtype: float64"
            ]
          },
          "metadata": {},
          "execution_count": 41
        }
      ]
    },
    {
      "cell_type": "code",
      "source": [
        "# What type is the index for ts?\n",
        "type(ts.index)"
      ],
      "metadata": {
        "colab": {
          "base_uri": "https://localhost:8080/"
        },
        "id": "GQcb_Rt4etQE",
        "outputId": "d5d95dca-d0b4-4767-dfd0-4c51c0a195a6"
      },
      "execution_count": 42,
      "outputs": [
        {
          "output_type": "execute_result",
          "data": {
            "text/plain": [
              "pandas.core.indexes.period.PeriodIndex"
            ]
          },
          "metadata": {},
          "execution_count": 42
        }
      ]
    },
    {
      "cell_type": "code",
      "source": [
        "# Experiment with various indices\n",
        "# Hint: does ts['2016'] work?"
      ],
      "metadata": {
        "id": "ffnizL2JevBU"
      },
      "execution_count": 43,
      "outputs": []
    },
    {
      "cell_type": "code",
      "source": [
        "# Timestamped data can be convereted to period indices with to_period and vice versa with to_timestamp\n",
        "ts = pd.Series(range(10), pd.date_range('07-10-16 8:00', periods = 10, freq = 'H'))\n",
        "ts"
      ],
      "metadata": {
        "colab": {
          "base_uri": "https://localhost:8080/"
        },
        "id": "GjpSVpxEew4U",
        "outputId": "ca4d3b63-6107-400c-ced5-37fad41ffdee"
      },
      "execution_count": 44,
      "outputs": [
        {
          "output_type": "execute_result",
          "data": {
            "text/plain": [
              "2016-07-10 08:00:00    0\n",
              "2016-07-10 09:00:00    1\n",
              "2016-07-10 10:00:00    2\n",
              "2016-07-10 11:00:00    3\n",
              "2016-07-10 12:00:00    4\n",
              "2016-07-10 13:00:00    5\n",
              "2016-07-10 14:00:00    6\n",
              "2016-07-10 15:00:00    7\n",
              "2016-07-10 16:00:00    8\n",
              "2016-07-10 17:00:00    9\n",
              "Freq: H, dtype: int64"
            ]
          },
          "metadata": {},
          "execution_count": 44
        }
      ]
    },
    {
      "cell_type": "code",
      "source": [
        "ts_period = ts.to_period()\n",
        "ts_period"
      ],
      "metadata": {
        "colab": {
          "base_uri": "https://localhost:8080/"
        },
        "id": "DiU_BZ2GezaX",
        "outputId": "34ecb95d-b7db-47e9-f2f7-5b37258a4ec7"
      },
      "execution_count": 45,
      "outputs": [
        {
          "output_type": "execute_result",
          "data": {
            "text/plain": [
              "2016-07-10 08:00    0\n",
              "2016-07-10 09:00    1\n",
              "2016-07-10 10:00    2\n",
              "2016-07-10 11:00    3\n",
              "2016-07-10 12:00    4\n",
              "2016-07-10 13:00    5\n",
              "2016-07-10 14:00    6\n",
              "2016-07-10 15:00    7\n",
              "2016-07-10 16:00    8\n",
              "2016-07-10 17:00    9\n",
              "Freq: H, dtype: int64"
            ]
          },
          "metadata": {},
          "execution_count": 45
        }
      ]
    },
    {
      "cell_type": "code",
      "source": [
        "ts_period['2016-07-10 08:30':'2016-07-10 11:45'] # we have the concept of overlap with time periods\n"
      ],
      "metadata": {
        "colab": {
          "base_uri": "https://localhost:8080/"
        },
        "id": "DVWlujgte075",
        "outputId": "2cc0e62b-5399-4f7c-dde7-5f408cc4a7f0"
      },
      "execution_count": 46,
      "outputs": [
        {
          "output_type": "execute_result",
          "data": {
            "text/plain": [
              "2016-07-10 08:00    0\n",
              "2016-07-10 09:00    1\n",
              "2016-07-10 10:00    2\n",
              "2016-07-10 11:00    3\n",
              "Freq: H, dtype: int64"
            ]
          },
          "metadata": {},
          "execution_count": 46
        }
      ]
    },
    {
      "cell_type": "code",
      "source": [
        "ts['2016-07-10 08:30':'2016-07-10 11:45'] # we have the concept of include with timestamps"
      ],
      "metadata": {
        "colab": {
          "base_uri": "https://localhost:8080/"
        },
        "id": "5qxqNJOte2Xd",
        "outputId": "969e2897-99b1-44b1-aaf1-9f56effb83e1"
      },
      "execution_count": 47,
      "outputs": [
        {
          "output_type": "execute_result",
          "data": {
            "text/plain": [
              "2016-07-10 09:00:00    1\n",
              "2016-07-10 10:00:00    2\n",
              "2016-07-10 11:00:00    3\n",
              "Freq: H, dtype: int64"
            ]
          },
          "metadata": {},
          "execution_count": 47
        }
      ]
    },
    {
      "cell_type": "code",
      "source": [],
      "metadata": {
        "id": "LY1-kE_ZqhxQ"
      },
      "execution_count": 47,
      "outputs": []
    }
  ]
}